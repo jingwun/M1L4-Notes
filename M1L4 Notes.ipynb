{
 "cells": [
  {
   "cell_type": "markdown",
   "id": "surprising-pencil",
   "metadata": {},
   "source": [
    "<br><font color = darkblue size=6><strong>CQF M1L4 Notes</strong></font>\n",
    "\n",
    "by Jingwun (Grace) Moore, jingwunmoore@gmail.com"
   ]
  },
  {
   "cell_type": "markdown",
   "id": "complimentary-sugar",
   "metadata": {},
   "source": [
    "# Random Variable (Math Primer p.162)"
   ]
  },
  {
   "cell_type": "markdown",
   "id": "conservative-function",
   "metadata": {},
   "source": [
    "Random variables assign numbers to events. Thus a random variable (RV) X is a function which maps from the sample space $\\Omega$ to the set of real numbers.\n",
    "\n",
    "i.e. X: $\\omega$ $\\epsilon$ $\\Omega$ $\\rightarrow$ R\n",
    "\n",
    "\n",
    "**Functions (Math Primer p.4):**\n",
    "\n",
    "* A function denoted f(x) of a single variable of x is a rule that assings each element of a set X (written x $\\epsilon$ X) to exactly one element y of a set Y (y $\\epsilon$ Y).\n",
    "    \n",
    "* y = f(x); x $\\rightarrow$ f(x); f: x $\\rightarrow$ y\n",
    "\n",
    "\n"
   ]
  },
  {
   "cell_type": "markdown",
   "id": "fallen-apache",
   "metadata": {},
   "source": [
    "# Stochastic Variable"
   ]
  },
  {
   "cell_type": "markdown",
   "id": "proper-clearing",
   "metadata": {},
   "source": [
    "Stochastic: time-dependent random variable\n",
    "\n",
    "Stochastic calculus is very important because of the underlying random nature of financial markets. \n",
    "\n"
   ]
  },
  {
   "cell_type": "markdown",
   "id": "tracked-queensland",
   "metadata": {},
   "source": [
    "# Brownian Motion"
   ]
  },
  {
   "cell_type": "markdown",
   "id": "above-pakistan",
   "metadata": {},
   "source": [
    "## Construction"
   ]
  },
  {
   "cell_type": "markdown",
   "id": "qualified-fault",
   "metadata": {},
   "source": [
    "Toss a coin n times, within a fixed and finite period t, and bet size for each time being +\\\\$$\\sqrt{t/n}$ \n",
    "or -\\\\$$\\sqrt{t/n}$. For the $i$th toss:\n",
    "\n",
    "$E[R_i]=\\sum x_if_i = (\\sqrt{t/n})\\times(1/2)+(-\\sqrt{t/n})\\times(1/2)=0$\n",
    "\n",
    "$V[R_i]=E[R_i^2] - E[R_i]^2=\\sum x_i^2f_i = (\\sqrt{t/n})^2 = t/n$\n",
    "\n",
    "$E[R_iR_j]=0$\n",
    "\n",
    "Denote $S_i = \\sum_{j=1}^i R_j$, subject to $S_0 =0$, then:\n",
    "        \n",
    "$E[S(t)] = E[\\lim_{n\\rightarrow\\infty}\\sum_{i=1}^n R_i]\n",
    "=\\lim_{n\\rightarrow\\infty}\\sum_{i=1}^n E[R_i] = n\\times0=0$\n",
    "\n",
    "$V[S_i] = V[\\lim_{n\\rightarrow\\infty}\\sum_{i=1}^n R_n]\n",
    "=\\lim_{n\\rightarrow\\infty}\\sum_{i=1}^n V[R_i] = n\\times t/n=t$\n",
    "\n",
    "    * Mean and Variance (Math Primer p.167)\n",
    "        * Mean: $u = E[X] = \\sum_{i=1}^n x_if(x_i)$\n",
    "        * Variance: $V[X] = E[(X-u)^2] = E[X^2] - u^2 = \\sum_{i=1}^n (x_i)^2f(x_i) - u^2$\n",
    "\n",
    "As you toss coins more times, the path follows a random walk.\n",
    "\n",
    "As $n \\rightarrow \\infty$, $t/n \\rightarrow 0$. The limiting process (i.e. the bet size is scaled down so won't S won't shoot up to infinity) for this random walk as the time steps go to zero is called Brownian Motion, denoted as $X(t), or X_t, or W, or W(t), or W_t$. It is the continuous-time limit of our discrete time random walk."
   ]
  },
  {
   "cell_type": "markdown",
   "id": "comprehensive-regression",
   "metadata": {},
   "source": [
    "## Properties"
   ]
  },
  {
   "cell_type": "markdown",
   "id": "sublime-annotation",
   "metadata": {},
   "source": [
    "### $X_0 = 0$"
   ]
  },
  {
   "cell_type": "markdown",
   "id": "round-rogers",
   "metadata": {},
   "source": [
    "### Continuity"
   ]
  },
  {
   "cell_type": "markdown",
   "id": "tutorial-salmon",
   "metadata": {},
   "source": [
    "The paths are continuous everywhere"
   ]
  },
  {
   "cell_type": "markdown",
   "id": "polished-laundry",
   "metadata": {},
   "source": [
    "### Finiteness"
   ]
  },
  {
   "cell_type": "markdown",
   "id": "strategic-shift",
   "metadata": {},
   "source": [
    "### The Markov Property"
   ]
  },
  {
   "cell_type": "markdown",
   "id": "convertible-trial",
   "metadata": {},
   "source": [
    "i.e. Memoryless State\n",
    "\n",
    "The conditional distribution of $X(t)$ given information up until $\\tau < t$ depends only on $X(\\tau)$."
   ]
  },
  {
   "cell_type": "markdown",
   "id": "arctic-compatibility",
   "metadata": {},
   "source": [
    "### The Martingale Property"
   ]
  },
  {
   "cell_type": "markdown",
   "id": "decent-irrigation",
   "metadata": {},
   "source": [
    "$E[S_i|S_j, j<i]=S_j$\n",
    "\n",
    "Conditional expectation: $E[S_{i+1}|S_i]=S_i$\n",
    "\n",
    "\n",
    "Asset prices don't follow this property until they are discounted."
   ]
  },
  {
   "cell_type": "markdown",
   "id": "stopped-country",
   "metadata": {},
   "source": [
    "### Quadratic Variation"
   ]
  },
  {
   "cell_type": "markdown",
   "id": "abroad-virgin",
   "metadata": {},
   "source": [
    "The quadratic variation of the random walk is:\n",
    "\n",
    "$Q[X(t)] = V^2 = \\sum_{j=1}^n (X(t_j)-X(t_{j-1}))^2 = n \\times (\\sqrt{t/n})^2 = t$ "
   ]
  },
  {
   "cell_type": "markdown",
   "id": "documented-outreach",
   "metadata": {},
   "source": [
    "### Normality"
   ]
  },
  {
   "cell_type": "markdown",
   "id": "impressive-status",
   "metadata": {},
   "source": [
    "Increments are Gaussian (because of CLT. Coin toss is Bernoulli distribution, but because we are doing so many of them, according to CLT, it's Gaussian distribution.), i.e. $X(t_i) - X(t_{i-1})$ ~ $N(0, |t_i-t_{i_1}|)$\n",
    "\n",
    "Therefore:\n",
    "\n",
    "(1) $E[dX_t] = 0$\n",
    "\n",
    "(2) $V[dX_t]=dt$\n",
    "\n",
    "(3) The pdf for $X_t-X_s$ if t > s, is $\\frac{1}{{\\sqrt {2\\pi |t-s|}}}e^\\frac{-(X_t-X_s)^2}{2|t - s|}$\n",
    "\n",
    "(4) And increments are independent from each other\n",
    "\n",
    "(5) $dX$ ~ $\\phi\\sqrt{dt}$, where $\\phi$ ~ $N(0,1)$, i.e. they both have the same mean and variance. Therefore, we can say the movement for each timestep is O($\\sqrt{dt})$ (the order of square root $dt$. The reason we say order is because $dt$ is multiplied by the $\\phi$.) \n",
    "\n",
    "(6) $X_t$ is also normally distributed because $X_t = X_t-X_0$ ~ $N(0,t)$"
   ]
  },
  {
   "cell_type": "markdown",
   "id": "offshore-feeling",
   "metadata": {},
   "source": [
    "## Brownian Motion with Drift"
   ]
  },
  {
   "cell_type": "markdown",
   "id": "nutritional-techno",
   "metadata": {},
   "source": [
    "$dX$ is an increment of Brownian motion, known as a Wiener process and is a Normally distributed random variable such that dX ∼ N (0, dt)\n",
    "\n",
    "$\\sigma dX$ is also a Brownian motion\n",
    "\n",
    "If we add a drift term $\\mu dt$ then $dS = \\mu dt+ \\sigma dX$. This is called Brownian Motion with Drift, or Generalized Wiener Process.\n",
    "\n",
    "Now, with the above equation, S (stock price) can go to negative, which is not realistic, that's why we introduce Geometric Brownian Motion (or lognormal random walk), which is: $\\frac{dS}{S}=\\mu dt+\\sigma dX$. This will never be negative. Here, drift scales with timestep, and diffusion scales with $\\sqrt{timestep}$. It's called geometric or lognormal because if we make things simple and make it zero volatility, i.e. $\\sigma =0$, then $\\frac{dS}{S}=\\mu dt$\n",
    "\n",
    "To solve S we need to integrate both sides:\n",
    "\n",
    "$\\int{\\frac{dS}{S}}=\\mu\\int dt$\n",
    "\n",
    "$log S = \\mu t$\n",
    "\n",
    "$S_t = Ae^{\\mu t}$\n",
    "\n",
    "$S_t = S_0^{\\mu t}$   (lognormal walk)\n"
   ]
  },
  {
   "cell_type": "markdown",
   "id": "athletic-dylan",
   "metadata": {},
   "source": [
    "# From Taylor Series Expansion to Itos Lemma"
   ]
  },
  {
   "cell_type": "markdown",
   "id": "handled-circuit",
   "metadata": {},
   "source": [
    "## Functions of Stochastic Variables"
   ]
  },
  {
   "cell_type": "markdown",
   "id": "oriented-battery",
   "metadata": {},
   "source": [
    "The stochastic variables here is Brownian Motion.\n",
    "\n",
    "$X_t$ is a stochastic process, i.e. {$X_t: t \\epsilon R^+$} (family of random variables indexed with time)"
   ]
  },
  {
   "cell_type": "markdown",
   "id": "eight-stuart",
   "metadata": {},
   "source": [
    "## Applying everyday calculus to stochastic variables"
   ]
  },
  {
   "cell_type": "markdown",
   "id": "painted-awareness",
   "metadata": {},
   "source": [
    "Everyday calculus: \n",
    "$f'(x) = \\lim_{\\delta x\\rightarrow 0} \\frac{f(x+\\delta x) - f(x)}{\\delta x}$\n",
    "\n",
    "Applying to $X_t$:\n",
    "\n",
    "$\\frac{dX}{dt} = \\lim_{\\delta t \\rightarrow 0}\\frac{X(t+\\delta t)-X(t)}{\\delta t}$\n",
    "= $\\lim_{\\delta t \\rightarrow 0}\\frac{O(\\sqrt {\\delta t})}{\\delta t}$\n",
    "= $\\lim_{\\delta t \\rightarrow 0}\\frac{1}{\\sqrt {\\delta t}} \\rightarrow$ doesn't exist (differentiable nowhere)\n",
    "\n",
    "For this reason, we instead work with stochastic differential equation."
   ]
  },
  {
   "cell_type": "markdown",
   "id": "enormous-albert",
   "metadata": {},
   "source": [
    "## Taylor Series Expansion and Ito (i.e. Stochastic Differential Equation, SDE)"
   ]
  },
  {
   "cell_type": "markdown",
   "id": "ignored-alarm",
   "metadata": {},
   "source": [
    "The most general way of writing down SDE is: $dG_t = A(t, G_t)dt+B(t, G_t)dX_t$, for any arbitrary stochastic process $G$. $G$ could be anything. \n",
    "\n",
    "And the integral form is:\n",
    "$G_t = X + \\int_{0}^{t} A(t,G_t)ds + \\int_{0}^{t}B(t, G_t)dX$, assuming $G_0 = X$\n",
    "\n"
   ]
  },
  {
   "cell_type": "markdown",
   "id": "molecular-leader",
   "metadata": {},
   "source": [
    "### Ito I: $dF = \\frac{1}{2}\\frac{d^2F}{dX^2}dt + \\frac{dF}{dX}dX$"
   ]
  },
  {
   "cell_type": "markdown",
   "id": "collective-underwear",
   "metadata": {},
   "source": [
    "Use Ito I for functions that look like F=F(X). For example: $X^n, sinX, e^x, logX$.\n",
    "\n",
    "According to Mean Square Limit (or Mean Square Convergence): $E[dX^2] \\rightarrow dt$ (behaves like $dt$ as $dt \\rightarrow 0$), note here $dX^2 = (dX)^2$.\n",
    "\n",
    "i.e. $\\lim_{\\delta t \\rightarrow 0}dX^2 = dt$\n",
    "\n",
    "We saw similar outcome from Quadratic Variation: $\\sum(X_t-X_{t-1})^2 = t$\n",
    "\n",
    "implication: whenever you see $dX^2$, replace it with $dt$. i.e. $dX^2 = dt$\n",
    "\n",
    "According to TSE, we get $F(X+dX) = F(X) +\\frac{dF}{dX}dX +\\frac{1}{2}\\frac{d^2F}{dX^2}dX^2...$ \n",
    "\n",
    "In a regular TSE, say, $f(x+\\delta x) = f(x) +\\frac{df}{dx}\\delta x +\\frac{1}{2}\\frac{d^2f}{dx^2}\\delta x^2...$,\n",
    "$\\delta x^2$ is usually very small so we can ignore it, but in Brownian Motion, $dX^2$ is not small and cannot be ignored. It actually behaves like $dt$. \n",
    "\n",
    "Total Change = $dF = F(X+dX) - F(X) = \\frac{dF}{dX}dX +\\frac{1}{2}\\frac{d^2F}{dX^2}dX^2 = \\frac{dF}{dX}dX +\\frac{1}{2}\\frac{d^2F}{dX^2}dt$\n",
    "\n",
    "$dt$ is what differentiates the stochastic calculus from everyday calculus. \n",
    "\n",
    "$\\frac{dF}{dX}$ = diffusion\n",
    "\n",
    "$\\frac{1}{2}\\frac{d^2F}{dX^2}$ = drift"
   ]
  },
  {
   "cell_type": "markdown",
   "id": "constant-heather",
   "metadata": {},
   "source": [
    "### Ito II: $dF = (\\frac{\\partial F}{\\partial t}+\\frac{1}{2}\\frac{\\partial ^2 F}{\\partial X^2})dt + \\frac{\\partial F}{\\partial X}dX$ "
   ]
  },
  {
   "cell_type": "markdown",
   "id": "environmental-ontario",
   "metadata": {},
   "source": [
    "Use Ito II for functions that look like $F=F(t, X_t)$. For example: $t^2X^2, e^{t+X}, t^2 sinX$\n",
    "\n",
    "Now we are dealing with two variables: $t \\rightarrow t+dt$, and $X \\rightarrow X+dX$, so we need to use two-dimensional TSE:\n",
    "\n",
    "$F(t+dt, X+dX) = F(t,X) + \\frac{\\partial F}{\\partial t}dt + \\frac{\\partial F}{\\partial X}dX+\\frac{1}{2}\\frac{\\partial ^2 F}{\\partial X^2}dX^2$\n",
    "$= F(t,X) + \\frac{\\partial F}{\\partial t}dt + \\frac{\\partial F}{\\partial X}dX+\\frac{1}{2}\\frac{\\partial ^2 F}{\\partial X^2}dt$\n",
    "\n",
    "Total Change \n",
    "$= dF = F(t+dt, X+dX) - F(t,X) = (\\frac{\\partial F}{\\partial t}+\\frac{1}{2}\\frac{\\partial ^2 F}{\\partial X^2})dt + \\frac{\\partial F}{\\partial X}dX$ "
   ]
  },
  {
   "cell_type": "markdown",
   "id": "elder-leonard",
   "metadata": {},
   "source": [
    "#### Stochastic Integration formula (Ito's Integral):"
   ]
  },
  {
   "cell_type": "markdown",
   "id": "possible-robertson",
   "metadata": {},
   "source": [
    "##### Integration for Ito II: $\\int_{0}^{t} \\frac{\\partial F}{\\partial X}dx= F(t,X_t)-F(0,X_0) - \\int_{0}^{t}(\\frac{\\partial F}{\\partial t}+\\frac{1}{2}\\frac{\\partial^2F}{\\partial X^2})dt$\n"
   ]
  },
  {
   "cell_type": "markdown",
   "id": "initial-austria",
   "metadata": {},
   "source": [
    "Start with Ito II: \n",
    "\n",
    "$\\frac{\\partial F}{\\partial X}dX = dF - (\\frac{\\partial F}{\\partial t}+\\frac{1}{2}\\frac{\\partial ^2 F}{\\partial X^2})dt $\n",
    "\n",
    "Integrate both sides over [0, t]:\n",
    "\n",
    "$\\int_{0}^{t} \\frac{\\partial F}{\\partial X}dx$\n",
    "$= \\int_{0}^{t} dF - \\int_{0}^{t}(\\frac{\\partial F}{\\partial t}+\\frac{1}{2}\\frac{\\partial^2F}{\\partial X^2})dt$\n",
    "$= F(t,X_t)-F(0,X_0) - \\int_{0}^{t}(\\frac{\\partial F}{\\partial t}+\\frac{1}{2}\\frac{\\partial^2F}{\\partial X^2})dt$\n",
    "\n",
    "$\\int_{0}^{t} \\frac{\\partial F}{\\partial X}dx$ is called Ito Integral."
   ]
  },
  {
   "cell_type": "markdown",
   "id": "creative-bracket",
   "metadata": {},
   "source": [
    "##### Integration for Ito I: $\\int_{0}^{t} \\frac{\\partial F}{\\partial X}dx= F(X_t)-F(X_0) - \\frac{1}{2}\\int_{0}^{t}\\frac{\\partial^2F}{\\partial X^2}dt$\n"
   ]
  },
  {
   "cell_type": "markdown",
   "id": "informed-identity",
   "metadata": {},
   "source": [
    "## Stochastic Process"
   ]
  },
  {
   "cell_type": "markdown",
   "id": "regular-origin",
   "metadata": {},
   "source": [
    "Stochastic process means: ${G_t: t \\epsilon R^+}$\n",
    "\n",
    "Here $G_t$ can mean any asset class. For example $S_t$ for stock price, $R_t$ for interest rate, $\\sigma_t$ for volatility, etc. \n",
    "\n",
    "We are interested in knowing what happens for $t \\rightarrow t+dt$, i.e.:\n",
    "\n",
    "$dG = A(t, G_t)dt+B(t, G_t)dX_t$, this is a SDE for G or random walk for $dG$.\n",
    "\n",
    "$A(t, G_t)dt$ is the deterministic part, and $B(t, G_t)dX$ is the random part.\n",
    "\n",
    "Also, $A(t, G_t)dt$ is drift, and $B(t, G_t)$ is diffusion.\n",
    "\n",
    "The most general way of writing down SDE is: $dG_t = A(t, G_t)dt+B(t, G_t)dX_t$, for any arbitrary stochastic process $G$. $G$ could be anything. \n",
    "\n",
    "Assume $G_0=X$. Now do integration:\n",
    "\n",
    "$\\int_{0}^{t}dG_t$\n",
    "$= \\int_{0}^{t} A(t,G_t)ds + \\int_{0}^{t}B(t, G_t)dX$\n",
    "\n",
    "(Note $\\int_{0}^{t}B(t, G_t)dX$ is Ito integral, because we are integrating against a Brownian Motion.)\n",
    "\n",
    "$G_t -G_0 = \\int_{0}^{t} A(t,G_t)ds + \\int_{0}^{t}B(t, G_t)dX$\n",
    "\n",
    "$G_t = G_0 + \\int_{0}^{t} A(t,G_t)ds + \\int_{0}^{t}B(t, G_t)dX$\n",
    "$= X + \\int_{0}^{t} A(t,G_t)ds + \\int_{0}^{t}B(t, G_t)dX$\n",
    "\n"
   ]
  },
  {
   "cell_type": "code",
   "execution_count": null,
   "id": "foreign-sherman",
   "metadata": {},
   "outputs": [],
   "source": []
  }
 ],
 "metadata": {
  "hide_input": false,
  "kernelspec": {
   "display_name": "Python 3",
   "language": "python",
   "name": "python3"
  },
  "language_info": {
   "codemirror_mode": {
    "name": "ipython",
    "version": 3
   },
   "file_extension": ".py",
   "mimetype": "text/x-python",
   "name": "python",
   "nbconvert_exporter": "python",
   "pygments_lexer": "ipython3",
   "version": "3.8.5"
  },
  "toc": {
   "base_numbering": 1,
   "nav_menu": {},
   "number_sections": true,
   "sideBar": true,
   "skip_h1_title": false,
   "title_cell": "Table of Contents",
   "title_sidebar": "Contents",
   "toc_cell": false,
   "toc_position": {
    "height": "calc(100% - 180px)",
    "left": "10px",
    "top": "150px",
    "width": "170px"
   },
   "toc_section_display": true,
   "toc_window_display": true
  }
 },
 "nbformat": 4,
 "nbformat_minor": 5
}
